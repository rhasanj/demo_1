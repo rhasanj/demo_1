{
    "cells": [
        {
            "cell_type": "markdown",
            "metadata": {
                "collapsed": true
            },
            "source": "# \"My Jupyter Notebook on IBM Watson Studio\""
        },
        {
            "cell_type": "markdown",
            "metadata": {},
            "source": "# \"Rana Hasan Javed\"**\n# \"Data Analyist\""
        },
        {
            "cell_type": "markdown",
            "metadata": {},
            "source": "*\"I want to become data scientist to make better data driven decisions for Society\"*"
        },
        {
            "cell_type": "markdown",
            "metadata": {},
            "source": "### \"how 3 is muliplied by 3\""
        },
        {
            "cell_type": "code",
            "execution_count": 3,
            "metadata": {},
            "outputs": [
                {
                    "data": {
                        "text/plain": "9"
                    },
                    "execution_count": 3,
                    "metadata": {},
                    "output_type": "execute_result"
                }
            ],
            "source": "3*3"
        },
        {
            "cell_type": "markdown",
            "metadata": {},
            "source": "- Practice Bullet Point\n     - Sub Bullet\n     1. Sample Numbered item\n     2.  Sample numbered item 2\n     ***\n     "
        },
        {
            "cell_type": "code",
            "execution_count": null,
            "metadata": {},
            "outputs": [],
            "source": ""
        }
    ],
    "metadata": {
        "kernelspec": {
            "display_name": "Python 3.10",
            "language": "python",
            "name": "python3"
        },
        "language_info": {
            "codemirror_mode": {
                "name": "ipython",
                "version": 3
            },
            "file_extension": ".py",
            "mimetype": "text/x-python",
            "name": "python",
            "nbconvert_exporter": "python",
            "pygments_lexer": "ipython3",
            "version": "3.10.9"
        }
    },
    "nbformat": 4,
    "nbformat_minor": 1
}